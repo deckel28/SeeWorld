{
  "nbformat": 4,
  "nbformat_minor": 0,
  "metadata": {
    "colab": {
      "name": "mood_pred.ipynb",
      "provenance": [],
      "include_colab_link": true
    },
    "kernelspec": {
      "name": "python3",
      "display_name": "Python 3"
    }
  },
  "cells": [
    {
      "cell_type": "markdown",
      "metadata": {
        "id": "view-in-github",
        "colab_type": "text"
      },
      "source": [
        "<a href=\"https://colab.research.google.com/github/deckel28/SeeWorld/blob/master/mood_pred.ipynb\" target=\"_parent\"><img src=\"https://colab.research.google.com/assets/colab-badge.svg\" alt=\"Open In Colab\"/></a>"
      ]
    },
    {
      "cell_type": "code",
      "metadata": {
        "id": "bjjRlu-9DaDm",
        "colab_type": "code",
        "colab": {
          "base_uri": "https://localhost:8080/",
          "height": 121
        },
        "outputId": "76148cc4-51a7-481e-da30-09d3561fd0c0"
      },
      "source": [
        "from google.colab import drive\n",
        "drive.mount('/content/drive', force_remount=True)"
      ],
      "execution_count": 1,
      "outputs": [
        {
          "output_type": "stream",
          "text": [
            "Go to this URL in a browser: https://accounts.google.com/o/oauth2/auth?client_id=947318989803-6bn6qk8qdgf4n4g3pfee6491hc0brc4i.apps.googleusercontent.com&redirect_uri=urn%3aietf%3awg%3aoauth%3a2.0%3aoob&response_type=code&scope=email%20https%3a%2f%2fwww.googleapis.com%2fauth%2fdocs.test%20https%3a%2f%2fwww.googleapis.com%2fauth%2fdrive%20https%3a%2f%2fwww.googleapis.com%2fauth%2fdrive.photos.readonly%20https%3a%2f%2fwww.googleapis.com%2fauth%2fpeopleapi.readonly\n",
            "\n",
            "Enter your authorization code:\n",
            "··········\n",
            "Mounted at /content/drive\n"
          ],
          "name": "stdout"
        }
      ]
    },
    {
      "cell_type": "code",
      "metadata": {
        "id": "Uc1GU777DkXK",
        "colab_type": "code",
        "colab": {
          "base_uri": "https://localhost:8080/",
          "height": 34
        },
        "outputId": "ef565c63-1188-4b1b-9d2b-508162890b75"
      },
      "source": [
        "import os\n",
        "import pickle\n",
        "import h5py\n",
        "import numpy as np\n",
        "from numpy import savetxt\n",
        "from numpy import genfromtxt\n",
        "from numpy import random\n",
        "from random import choices\n",
        "os.environ['TF_CPP_MIN_LOG_LEVEL'] = '3'\n",
        "from tensorflow import keras\n",
        "import matplotlib.pyplot as plt\n",
        "import csv\n",
        "\n",
        "from keras import backend\n",
        "from keras.models import Sequential\n",
        "from keras.layers import Dense, Flatten\n",
        "from keras.layers import Conv2D, MaxPooling2D, LSTM, Dropout, BatchNormalization\n",
        "from sklearn import metrics\n",
        "from sklearn.model_selection import train_test_split\n",
        "from sklearn.metrics import fbeta_score\n",
        "from sklearn.metrics import multilabel_confusion_matrix"
      ],
      "execution_count": 2,
      "outputs": [
        {
          "output_type": "stream",
          "text": [
            "Using TensorFlow backend.\n"
          ],
          "name": "stderr"
        }
      ]
    },
    {
      "cell_type": "code",
      "metadata": {
        "id": "Wg10gtAPDklg",
        "colab_type": "code",
        "colab": {
          "base_uri": "https://localhost:8080/",
          "height": 185
        },
        "outputId": "5d6de00e-23c5-4b33-d8bf-6c84ff378dc8"
      },
      "source": [
        "os.chdir('/content/drive/My Drive')\n",
        "os.listdir()"
      ],
      "execution_count": 3,
      "outputs": [
        {
          "output_type": "execute_result",
          "data": {
            "text/plain": [
              "['GoogleNews-vectors-negative300.bin',\n",
              " 'feats_train.h5',\n",
              " 'encoded_train.csv',\n",
              " 'feats_val.h5',\n",
              " 'encoded_val.csv',\n",
              " 'feats_test.h5',\n",
              " 'encoded_test.csv',\n",
              " 'model.h5',\n",
              " 'mood_train.ipynb',\n",
              " 'mood_pred.ipynb']"
            ]
          },
          "metadata": {
            "tags": []
          },
          "execution_count": 3
        }
      ]
    },
    {
      "cell_type": "code",
      "metadata": {
        "id": "niwcu7V2Dk4u",
        "colab_type": "code",
        "colab": {}
      },
      "source": [
        "trainY = genfromtxt('encoded_train.csv', delimiter=',')\n",
        "h5f = h5py.File('./feats_train.h5','r')\n",
        "trainX = h5f['dataset'][:]\n",
        "h5f.close()\n",
        "\n",
        "valY = genfromtxt('encoded_val.csv', delimiter=',')\n",
        "h5f = h5py.File('./feats_val.h5','r')\n",
        "valX = h5f['dataset'][:]\n",
        "h5f.close()\n",
        "\n",
        "testY = genfromtxt('encoded_test.csv', delimiter=',')\n",
        "h5f = h5py.File('./feats_test.h5','r')\n",
        "testX = h5f['dataset'][:]\n",
        "h5f.close()"
      ],
      "execution_count": null,
      "outputs": []
    },
    {
      "cell_type": "code",
      "metadata": {
        "id": "GHmXuTIYzhYi",
        "colab_type": "code",
        "colab": {}
      },
      "source": [
        "print('trainX-', trainX.shape, '   trainY- ', trainY.shape)\n",
        "print('valX-', valX.shape, '      valY- ', valY.shape)\n",
        "print('testX-', testX.shape, '     testY- ', testY.shape)"
      ],
      "execution_count": null,
      "outputs": []
    },
    {
      "cell_type": "code",
      "metadata": {
        "id": "dnZ4zGu3zh54",
        "colab_type": "code",
        "colab": {}
      },
      "source": [
        "trainX0 = np.expand_dims(trainX, axis=-1)\n",
        "valX0 = np.expand_dims(valX, axis=-1)\n",
        "testX0 = np.expand_dims(testX, axis=-1)\n",
        "\n",
        "IN_SHAPE = trainX0.shape[1:]\n",
        "print(IN_SHAPE)"
      ],
      "execution_count": null,
      "outputs": []
    },
    {
      "cell_type": "code",
      "metadata": {
        "id": "CmoWiDCFzmlK",
        "colab_type": "code",
        "colab": {}
      },
      "source": [
        "print(trainX0.shape, valX0.shape, testX0.shape)\n",
        "print(trainY.shape, valY.shape, testY.shape)"
      ],
      "execution_count": null,
      "outputs": []
    },
    {
      "cell_type": "code",
      "metadata": {
        "id": "NMXcSw1AXsPu",
        "colab_type": "code",
        "colab": {
          "base_uri": "https://localhost:8080/",
          "height": 538
        },
        "outputId": "e32f2d34-6c23-432a-de84-d3009461d13a"
      },
      "source": [
        "model = keras.models.load_model('model.h5')\n",
        "model.summary()"
      ],
      "execution_count": null,
      "outputs": [
        {
          "output_type": "stream",
          "text": [
            "WARNING:tensorflow:No training configuration found in the save file, so the model was *not* compiled. Compile it manually.\n",
            "Model: \"sequential_5\"\n",
            "_________________________________________________________________\n",
            "Layer (type)                 Output Shape              Param #   \n",
            "=================================================================\n",
            "conv2d_17 (Conv2D)           (None, 20, 211, 64)       640       \n",
            "_________________________________________________________________\n",
            "conv2d_18 (Conv2D)           (None, 20, 211, 64)       36928     \n",
            "_________________________________________________________________\n",
            "max_pooling2d_9 (MaxPooling2 (None, 10, 105, 64)       0         \n",
            "_________________________________________________________________\n",
            "conv2d_19 (Conv2D)           (None, 10, 105, 64)       36928     \n",
            "_________________________________________________________________\n",
            "batch_normalization_5 (Batch (None, 10, 105, 64)       256       \n",
            "_________________________________________________________________\n",
            "conv2d_20 (Conv2D)           (None, 10, 105, 64)       36928     \n",
            "_________________________________________________________________\n",
            "max_pooling2d_10 (MaxPooling (None, 5, 52, 64)         0         \n",
            "_________________________________________________________________\n",
            "dropout_4 (Dropout)          (None, 5, 52, 64)         0         \n",
            "_________________________________________________________________\n",
            "flatten_5 (Flatten)          (None, 16640)             0         \n",
            "_________________________________________________________________\n",
            "dense_9 (Dense)              (None, 60)                998460    \n",
            "_________________________________________________________________\n",
            "dense_10 (Dense)             (None, 8)                 488       \n",
            "=================================================================\n",
            "Total params: 1,110,628\n",
            "Trainable params: 1,110,500\n",
            "Non-trainable params: 128\n",
            "_________________________________________________________________\n"
          ],
          "name": "stdout"
        }
      ]
    },
    {
      "cell_type": "code",
      "metadata": {
        "id": "uKvfh5EJWVdv",
        "colab_type": "code",
        "colab": {
          "base_uri": "https://localhost:8080/",
          "height": 34
        },
        "outputId": "f6e293c0-8dec-4a7c-b810-f3db5750da81"
      },
      "source": [
        "print(np.sum(data_Y, axis=0))"
      ],
      "execution_count": null,
      "outputs": [
        {
          "output_type": "stream",
          "text": [
            "[183734.  88645.    517.  65082.   9671.  48018.   1675.  21879.]\n"
          ],
          "name": "stdout"
        }
      ]
    },
    {
      "cell_type": "code",
      "metadata": {
        "id": "Z4Nvq7400OSU",
        "colab_type": "code",
        "colab": {}
      },
      "source": [
        "def fbeta(y_true, y_pred, beta=2):\n",
        "  # clip predictions\n",
        "  y_pred = backend.clip(y_pred, 0, 1)\n",
        "  # calculate elements\n",
        "  tp = backend.sum(backend.round(backend.clip(y_true * y_pred, 0, 1)), axis=1)\n",
        "  fp = backend.sum(backend.round(backend.clip(y_pred - y_true, 0, 1)), axis=1)\n",
        "  fn = backend.sum(backend.round(backend.clip(y_true - y_pred, 0, 1)), axis=1)\n",
        "  # calculate precision\n",
        "  p = tp / (tp + fp + backend.epsilon())\n",
        "  # calculate recall\n",
        "  r = tp / (tp + fn + backend.epsilon())\n",
        "  # calculate fbeta, averaged across each class\n",
        "  bb = beta ** 2\n",
        "  fbeta_score = backend.mean((1 + bb) * (p * r) / (bb * p + r + backend.epsilon()))\n",
        "  return fbeta_score"
      ],
      "execution_count": null,
      "outputs": []
    },
    {
      "cell_type": "code",
      "metadata": {
        "id": "spqw60bgz2jS",
        "colab_type": "code",
        "colab": {}
      },
      "source": [
        "def predict_mood(model, dataX, thresholds):\n",
        "    predictions = model.predict(dataX)\n",
        "    y_pred = np.zeros((dataX.shape[0], 8))\n",
        "    for i in range(dataX.shape[0]):\n",
        "        for j in range(8):\n",
        "            y_pred[i][j] = (predictions[i][j] > thresholds[j][1])\n",
        "\n",
        "    return y_pred, predictions"
      ],
      "execution_count": null,
      "outputs": []
    },
    {
      "cell_type": "code",
      "metadata": {
        "id": "qD_l7Cs0D_Kf",
        "colab_type": "code",
        "colab": {}
      },
      "source": [
        "def multilabel_cm(trues, preds):\n",
        "    shape = trues.shape[0]\n",
        "    cm = np.zeros((8, 8), dtype=int)\n",
        "    for i in range(shape):\n",
        "        for j in range(8):\n",
        "            for k in range(8):\n",
        "                if trues[i][j] == 1 and preds[i][k] == 1:\n",
        "                    cm[j][k] = cm[j][k] + 1\n",
        "    return cm"
      ],
      "execution_count": null,
      "outputs": []
    },
    {
      "cell_type": "code",
      "metadata": {
        "id": "jbWWctLuEOSF",
        "colab_type": "code",
        "colab": {}
      },
      "source": [
        "def classification_report(trues, preds, thresholds, cm):\n",
        "    fn = np.zeros((8,))\n",
        "    fp = np.zeros((8,))\n",
        "    tp = np.zeros((8,))\n",
        "    print('CLASSIFICATION REPORT')\n",
        "    print('---------------------')\n",
        "    print(' ')\n",
        "\n",
        "    cm = multilabel_cm(trues, preds)\n",
        "    fps = np.sum(cm, axis=0)\n",
        "    fns = np.sum(cm, axis=1)\n",
        "    occ = np.sum(trues, axis=0)\n",
        "    report = np.zeros((8, 4))\n",
        "\n",
        "    for i in range(8):\n",
        "        tp[i] = cm[i][i]\n",
        "        fp[i] = fps[i] - cm[i][i]\n",
        "        fn[i] = fns[i] - cm[i][i]\n",
        "\n",
        "        precision = tp[i] / (tp[i] + fp[i])\n",
        "        report[i][0] = precision\n",
        "        recall = tp[i] / (tp[i] + fn[i])\n",
        "        report[i][1] = recall\n",
        "        f1score = 2 * precision * recall / (precision + recall)\n",
        "        report[i][2] = f1score\n",
        "        support = occ[i]\n",
        "        report[i][3] = support\n",
        "\n",
        "        print(thresholds[i][0])\n",
        "        print('.....')\n",
        "        print('Precision:', precision)\n",
        "        print('Recall:', recall)\n",
        "        print('F1-Score:', f1score)\n",
        "        print('Support:', support)\n",
        "        print('')\n",
        "        print('')\n",
        "\n",
        "    return report\n"
      ],
      "execution_count": null,
      "outputs": []
    },
    {
      "cell_type": "code",
      "metadata": {
        "id": "Se-iN0EgG53E",
        "colab_type": "code",
        "colab": {}
      },
      "source": [
        "thresholds = [['Happy', 0.8],\n",
        "                ['Excited', 0.5],\n",
        "                ['Frantic', 0.5],\n",
        "                ['Anxious/Sad', 0.3],\n",
        "                ['Anger', 0.5],\n",
        "                ['Calm', 0.22],\n",
        "                ['Tired', 0.5],\n",
        "                ['Sensual', 0.1]]"
      ],
      "execution_count": null,
      "outputs": []
    },
    {
      "cell_type": "code",
      "metadata": {
        "id": "ibCts4TA0liV",
        "colab_type": "code",
        "colab": {}
      },
      "source": [
        "y_pred, y_pred_val = predict_mood(model, testX0, thresholds)\n",
        "cm = multilabel_cm(testY, y_pred.astype(np.float))\n",
        "report = classification_report(testY, y_pred.astype(np.float), thresholds, cm)"
      ],
      "execution_count": null,
      "outputs": []
    },
    {
      "cell_type": "code",
      "metadata": {
        "id": "r_Iputve06Ky",
        "colab_type": "code",
        "colab": {}
      },
      "source": [
        "tags1 = np.array(tags).reshape((1, 8))\n",
        "y_pred1 = np.vstack((tags1, y_pred))\n",
        "print(y_pred1)"
      ],
      "execution_count": null,
      "outputs": []
    },
    {
      "cell_type": "code",
      "metadata": {
        "id": "NYszep_p0-AX",
        "colab_type": "code",
        "colab": {}
      },
      "source": [
        "cm1 = np.vstack((tags, cm))\n",
        "print('-------- Confusion Matrix-----------')\n",
        "print(cm1)\n",
        "savetxt('cm.csv', cm1, delimiter=',', fmt='%s')"
      ],
      "execution_count": null,
      "outputs": []
    },
    {
      "cell_type": "code",
      "metadata": {
        "id": "8_0fI_Zh1LHy",
        "colab_type": "code",
        "colab": {}
      },
      "source": [
        "report = np.vstack((['Precision', 'Recall', 'F1-Score', 'Support'], report))\n",
        "x = np.array(thresholds)\n",
        "names = np.append(['Label'], x[:, 0])\n",
        "names = names.reshape(9, 1)\n",
        "report = np.hstack((names, report))\n",
        "print(report)\n",
        "savetxt('report.csv', report, delimiter=',', fmt='%s')"
      ],
      "execution_count": null,
      "outputs": []
    },
    {
      "cell_type": "code",
      "metadata": {
        "id": "7pu8QL3i1PoW",
        "colab_type": "code",
        "colab": {}
      },
      "source": [
        "for x in range(2):\n",
        "    fig, axs = plt.subplots(1, 4)\n",
        "    for i in range(4):\n",
        "        axs[i].boxplot(y_pred_val[1:, i + 4 * x].astype(np.float), whis=100)\n",
        "        axs[i].set_title(thresholds[i + 4 * x][0])\n",
        "    plt.savefig('train_box_' + str(x) + '.png')\n"
      ],
      "execution_count": null,
      "outputs": []
    },
    {
      "cell_type": "code",
      "metadata": {
        "id": "ETafBcIV1QOJ",
        "colab_type": "code",
        "colab": {}
      },
      "source": [
        "accuracy = accuracy_score(data_Y[:50], y_pred)\n",
        "print('Accuracy: %f' % accuracy)\n",
        "\n",
        "f1 = fbeta(data_Y[:50], y_pred)\n",
        "print('F1 score: %f' % f1)\n",
        "\n",
        "hl = hamming_loss(data_Y[:50], y_pred)\n",
        "print('Hamming Loss: %f' % hl)"
      ],
      "execution_count": null,
      "outputs": []
    }
  ]
}